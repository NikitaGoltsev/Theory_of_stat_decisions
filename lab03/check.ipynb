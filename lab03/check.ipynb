{
 "cells": [
  {
   "cell_type": "code",
   "execution_count": 1,
   "metadata": {},
   "outputs": [],
   "source": [
    "import  numpy as np\n",
    "import pandas as pd"
   ]
  },
  {
   "cell_type": "code",
   "execution_count": 10,
   "metadata": {},
   "outputs": [
    {
     "name": "stdout",
     "output_type": "stream",
     "text": [
      "0      Male\n",
      "1    female\n",
      "2         f\n",
      "Name: 0, dtype: object\n",
      "------------------\n",
      "3\n"
     ]
    }
   ],
   "source": [
    "df = pd.DataFrame(['Male', 'female', 'f'])\n",
    "print(df[0], end='\\n------------------\\n')\n",
    "print(df.shape[0])"
   ]
  },
  {
   "cell_type": "code",
   "execution_count": 11,
   "metadata": {},
   "outputs": [
    {
     "name": "stdout",
     "output_type": "stream",
     "text": [
      "firsr varible is 0 and second is Male\n",
      "firsr varible is 1 and second is female\n",
      "firsr varible is 2 and second is f\n"
     ]
    }
   ],
   "source": [
    "for var1, var2 in enumerate(df[0]):\n",
    "    print(f'firsr varible is {var1} and second is {var2}')"
   ]
  },
  {
   "cell_type": "code",
   "execution_count": 13,
   "metadata": {},
   "outputs": [
    {
     "name": "stdout",
     "output_type": "stream",
     "text": [
      "{'Male': 'M'}\n"
     ]
    }
   ],
   "source": [
    "column = pd.DataFrame(['Male'])\n",
    "column.columns = ['Gender']\n",
    "uniq = column['Gender'].unique()\n",
    "dict_fot_col = {}\n",
    "# name = column.columns\n",
    "uniq = column['Gender'].unique()\n",
    "for var in uniq:\n",
    "    if var[0] == 'm' or var[0] == 'M':\n",
    "        dict_fot_col[var] = 'M'\n",
    "    else:\n",
    "        dict_fot_col[var] = 'F'\n",
    "\n",
    "print(dict_fot_col)"
   ]
  }
 ],
 "metadata": {
  "kernelspec": {
   "display_name": "Python 3",
   "language": "python",
   "name": "python3"
  },
  "language_info": {
   "codemirror_mode": {
    "name": "ipython",
    "version": 3
   },
   "file_extension": ".py",
   "mimetype": "text/x-python",
   "name": "python",
   "nbconvert_exporter": "python",
   "pygments_lexer": "ipython3",
   "version": "3.11.3"
  }
 },
 "nbformat": 4,
 "nbformat_minor": 2
}
